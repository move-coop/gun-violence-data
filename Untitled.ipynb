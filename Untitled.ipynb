{
 "cells": [
  {
   "cell_type": "code",
   "execution_count": 1,
   "metadata": {},
   "outputs": [],
   "source": [
    "import asyncio\n",
    "import csv\n",
    "\n",
    "from aiohttp import ClientSession\n",
    "from bs4 import BeautifulSoup"
   ]
  },
  {
   "cell_type": "code",
   "execution_count": 2,
   "metadata": {},
   "outputs": [],
   "source": [
    "GVA_DOMAIN = 'http://www.gunviolencearchive.org'"
   ]
  },
  {
   "cell_type": "code",
   "execution_count": 17,
   "metadata": {},
   "outputs": [],
   "source": [
    "def _get_info(tr):\n",
    "    tds = tr.select('td')\n",
    "    assert len(tds) == 8 #changed this from 7 to 8\n",
    "\n",
    "    date, state, city_or_county, address, n_killed, n_injured = [td.contents[0] for td in tds[:6]]\n",
    "    print(n_killed, n_injured)\n",
    "    n_killed, n_injured = map(int, [n_killed, n_injured])\n",
    "    \n",
    "    return date, state, city_or_county, address, n_killed, n_injured, incident_url, source_url"
   ]
  },
  {
   "cell_type": "code",
   "execution_count": null,
   "metadata": {},
   "outputs": [],
   "source": [
    "_get_info"
   ]
  }
 ],
 "metadata": {
  "kernelspec": {
   "display_name": "Python 3",
   "language": "python",
   "name": "python3"
  },
  "language_info": {
   "codemirror_mode": {
    "name": "ipython",
    "version": 3
   },
   "file_extension": ".py",
   "mimetype": "text/x-python",
   "name": "python",
   "nbconvert_exporter": "python",
   "pygments_lexer": "ipython3",
   "version": "3.7.1"
  }
 },
 "nbformat": 4,
 "nbformat_minor": 2
}
